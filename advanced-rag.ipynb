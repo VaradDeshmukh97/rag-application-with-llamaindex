{
 "cells": [
  {
   "cell_type": "markdown",
   "metadata": {},
   "source": [
    "<center><h1><b>Advacned RAG - Strategies</b></h1></center>"
   ]
  },
  {
   "cell_type": "markdown",
   "metadata": {},
   "source": [
    "## Advanced Retrieval and Reranking"
   ]
  },
  {
   "cell_type": "code",
   "execution_count": 1,
   "metadata": {},
   "outputs": [
    {
     "ename": "ImportError",
     "evalue": "cannot import name 'ChatMessage' from 'llama_index.core.llms' (unknown location)",
     "output_type": "error",
     "traceback": [
      "\u001b[1;31m---------------------------------------------------------------------------\u001b[0m",
      "\u001b[1;31mImportError\u001b[0m                               Traceback (most recent call last)",
      "Cell \u001b[1;32mIn[1], line 1\u001b[0m\n\u001b[1;32m----> 1\u001b[0m \u001b[38;5;28;01mfrom\u001b[39;00m \u001b[38;5;21;01mllama_index\u001b[39;00m\u001b[38;5;21;01m.\u001b[39;00m\u001b[38;5;21;01mretrievers\u001b[39;00m\u001b[38;5;21;01m.\u001b[39;00m\u001b[38;5;21;01mbm25\u001b[39;00m \u001b[38;5;28;01mimport\u001b[39;00m BM25Retriever\n\u001b[0;32m      2\u001b[0m \u001b[38;5;28;01mfrom\u001b[39;00m \u001b[38;5;21;01mllama_index\u001b[39;00m\u001b[38;5;21;01m.\u001b[39;00m\u001b[38;5;21;01mcore\u001b[39;00m\u001b[38;5;21;01m.\u001b[39;00m\u001b[38;5;21;01mretrievers\u001b[39;00m \u001b[38;5;28;01mimport\u001b[39;00m VectorIndexRetriever\n\u001b[0;32m      3\u001b[0m \u001b[38;5;28;01mfrom\u001b[39;00m \u001b[38;5;21;01mllama_index\u001b[39;00m\u001b[38;5;21;01m.\u001b[39;00m\u001b[38;5;21;01mcore\u001b[39;00m\u001b[38;5;21;01m.\u001b[39;00m\u001b[38;5;21;01mnode_parser\u001b[39;00m \u001b[38;5;28;01mimport\u001b[39;00m SentenceSplitter\n",
      "File \u001b[1;32mc:\\0-VARAD-DESHMUKH\\.venv\\Lib\\site-packages\\llama_index\\retrievers\\bm25\\__init__.py:1\u001b[0m\n\u001b[1;32m----> 1\u001b[0m \u001b[38;5;28;01mfrom\u001b[39;00m \u001b[38;5;21;01mllama_index\u001b[39;00m\u001b[38;5;21;01m.\u001b[39;00m\u001b[38;5;21;01mretrievers\u001b[39;00m\u001b[38;5;21;01m.\u001b[39;00m\u001b[38;5;21;01mbm25\u001b[39;00m\u001b[38;5;21;01m.\u001b[39;00m\u001b[38;5;21;01mbase\u001b[39;00m \u001b[38;5;28;01mimport\u001b[39;00m BM25Retriever\n\u001b[0;32m      3\u001b[0m __all__ \u001b[38;5;241m=\u001b[39m [\u001b[38;5;124m\"\u001b[39m\u001b[38;5;124mBM25Retriever\u001b[39m\u001b[38;5;124m\"\u001b[39m]\n",
      "File \u001b[1;32mc:\\0-VARAD-DESHMUKH\\.venv\\Lib\\site-packages\\llama_index\\retrievers\\bm25\\base.py:4\u001b[0m\n\u001b[0;32m      1\u001b[0m \u001b[38;5;28;01mimport\u001b[39;00m \u001b[38;5;21;01mlogging\u001b[39;00m\n\u001b[0;32m      2\u001b[0m \u001b[38;5;28;01mfrom\u001b[39;00m \u001b[38;5;21;01mtyping\u001b[39;00m \u001b[38;5;28;01mimport\u001b[39;00m Callable, List, Optional, cast\n\u001b[1;32m----> 4\u001b[0m \u001b[38;5;28;01mfrom\u001b[39;00m \u001b[38;5;21;01mllama_index\u001b[39;00m\u001b[38;5;21;01m.\u001b[39;00m\u001b[38;5;21;01mcore\u001b[39;00m\u001b[38;5;21;01m.\u001b[39;00m\u001b[38;5;21;01mbase\u001b[39;00m\u001b[38;5;21;01m.\u001b[39;00m\u001b[38;5;21;01mbase_retriever\u001b[39;00m \u001b[38;5;28;01mimport\u001b[39;00m BaseRetriever\n\u001b[0;32m      5\u001b[0m \u001b[38;5;28;01mfrom\u001b[39;00m \u001b[38;5;21;01mllama_index\u001b[39;00m\u001b[38;5;21;01m.\u001b[39;00m\u001b[38;5;21;01mcore\u001b[39;00m\u001b[38;5;21;01m.\u001b[39;00m\u001b[38;5;21;01mcallbacks\u001b[39;00m\u001b[38;5;21;01m.\u001b[39;00m\u001b[38;5;21;01mbase\u001b[39;00m \u001b[38;5;28;01mimport\u001b[39;00m CallbackManager\n\u001b[0;32m      6\u001b[0m \u001b[38;5;28;01mfrom\u001b[39;00m \u001b[38;5;21;01mllama_index\u001b[39;00m\u001b[38;5;21;01m.\u001b[39;00m\u001b[38;5;21;01mcore\u001b[39;00m\u001b[38;5;21;01m.\u001b[39;00m\u001b[38;5;21;01mconstants\u001b[39;00m \u001b[38;5;28;01mimport\u001b[39;00m DEFAULT_SIMILARITY_TOP_K\n",
      "File \u001b[1;32mc:\\0-VARAD-DESHMUKH\\.venv\\Lib\\site-packages\\llama_index\\core\\base\\base_retriever.py:5\u001b[0m\n\u001b[0;32m      2\u001b[0m \u001b[38;5;28;01mfrom\u001b[39;00m \u001b[38;5;21;01mabc\u001b[39;00m \u001b[38;5;28;01mimport\u001b[39;00m abstractmethod\n\u001b[0;32m      3\u001b[0m \u001b[38;5;28;01mfrom\u001b[39;00m \u001b[38;5;21;01mtyping\u001b[39;00m \u001b[38;5;28;01mimport\u001b[39;00m Any, Dict, List, Optional\n\u001b[1;32m----> 5\u001b[0m \u001b[38;5;28;01mfrom\u001b[39;00m \u001b[38;5;21;01mllama_index\u001b[39;00m\u001b[38;5;21;01m.\u001b[39;00m\u001b[38;5;21;01mcore\u001b[39;00m\u001b[38;5;21;01m.\u001b[39;00m\u001b[38;5;21;01mbase\u001b[39;00m\u001b[38;5;21;01m.\u001b[39;00m\u001b[38;5;21;01mbase_query_engine\u001b[39;00m \u001b[38;5;28;01mimport\u001b[39;00m BaseQueryEngine\n\u001b[0;32m      6\u001b[0m \u001b[38;5;28;01mfrom\u001b[39;00m \u001b[38;5;21;01mllama_index\u001b[39;00m\u001b[38;5;21;01m.\u001b[39;00m\u001b[38;5;21;01mcore\u001b[39;00m\u001b[38;5;21;01m.\u001b[39;00m\u001b[38;5;21;01mbase\u001b[39;00m\u001b[38;5;21;01m.\u001b[39;00m\u001b[38;5;21;01mquery_pipeline\u001b[39;00m\u001b[38;5;21;01m.\u001b[39;00m\u001b[38;5;21;01mquery\u001b[39;00m \u001b[38;5;28;01mimport\u001b[39;00m (\n\u001b[0;32m      7\u001b[0m     ChainableMixin,\n\u001b[0;32m      8\u001b[0m     InputKeys,\n\u001b[1;32m   (...)\u001b[0m\n\u001b[0;32m     11\u001b[0m     validate_and_convert_stringable,\n\u001b[0;32m     12\u001b[0m )\n\u001b[0;32m     13\u001b[0m \u001b[38;5;28;01mfrom\u001b[39;00m \u001b[38;5;21;01mllama_index\u001b[39;00m\u001b[38;5;21;01m.\u001b[39;00m\u001b[38;5;21;01mcore\u001b[39;00m\u001b[38;5;21;01m.\u001b[39;00m\u001b[38;5;21;01mbridge\u001b[39;00m\u001b[38;5;21;01m.\u001b[39;00m\u001b[38;5;21;01mpydantic\u001b[39;00m \u001b[38;5;28;01mimport\u001b[39;00m Field\n",
      "File \u001b[1;32mc:\\0-VARAD-DESHMUKH\\.venv\\Lib\\site-packages\\llama_index\\core\\base\\base_query_engine.py:7\u001b[0m\n\u001b[0;32m      4\u001b[0m \u001b[38;5;28;01mfrom\u001b[39;00m \u001b[38;5;21;01mabc\u001b[39;00m \u001b[38;5;28;01mimport\u001b[39;00m abstractmethod\n\u001b[0;32m      5\u001b[0m \u001b[38;5;28;01mfrom\u001b[39;00m \u001b[38;5;21;01mtyping\u001b[39;00m \u001b[38;5;28;01mimport\u001b[39;00m Any, Dict, List, Optional, Sequence\n\u001b[1;32m----> 7\u001b[0m \u001b[38;5;28;01mfrom\u001b[39;00m \u001b[38;5;21;01mllama_index\u001b[39;00m\u001b[38;5;21;01m.\u001b[39;00m\u001b[38;5;21;01mcore\u001b[39;00m\u001b[38;5;21;01m.\u001b[39;00m\u001b[38;5;21;01mbase\u001b[39;00m\u001b[38;5;21;01m.\u001b[39;00m\u001b[38;5;21;01mquery_pipeline\u001b[39;00m\u001b[38;5;21;01m.\u001b[39;00m\u001b[38;5;21;01mquery\u001b[39;00m \u001b[38;5;28;01mimport\u001b[39;00m (\n\u001b[0;32m      8\u001b[0m     ChainableMixin,\n\u001b[0;32m      9\u001b[0m     InputKeys,\n\u001b[0;32m     10\u001b[0m     OutputKeys,\n\u001b[0;32m     11\u001b[0m     QueryComponent,\n\u001b[0;32m     12\u001b[0m     validate_and_convert_stringable,\n\u001b[0;32m     13\u001b[0m )\n\u001b[0;32m     14\u001b[0m \u001b[38;5;28;01mfrom\u001b[39;00m \u001b[38;5;21;01mllama_index\u001b[39;00m\u001b[38;5;21;01m.\u001b[39;00m\u001b[38;5;21;01mcore\u001b[39;00m\u001b[38;5;21;01m.\u001b[39;00m\u001b[38;5;21;01mbase\u001b[39;00m\u001b[38;5;21;01m.\u001b[39;00m\u001b[38;5;21;01mresponse\u001b[39;00m\u001b[38;5;21;01m.\u001b[39;00m\u001b[38;5;21;01mschema\u001b[39;00m \u001b[38;5;28;01mimport\u001b[39;00m RESPONSE_TYPE\n\u001b[0;32m     15\u001b[0m \u001b[38;5;28;01mfrom\u001b[39;00m \u001b[38;5;21;01mllama_index\u001b[39;00m\u001b[38;5;21;01m.\u001b[39;00m\u001b[38;5;21;01mcore\u001b[39;00m\u001b[38;5;21;01m.\u001b[39;00m\u001b[38;5;21;01mbridge\u001b[39;00m\u001b[38;5;21;01m.\u001b[39;00m\u001b[38;5;21;01mpydantic\u001b[39;00m \u001b[38;5;28;01mimport\u001b[39;00m Field\n",
      "File \u001b[1;32mc:\\0-VARAD-DESHMUKH\\.venv\\Lib\\site-packages\\llama_index\\core\\base\\query_pipeline\\query.py:23\u001b[0m\n\u001b[0;32m     21\u001b[0m \u001b[38;5;28;01mfrom\u001b[39;00m \u001b[38;5;21;01mllama_index\u001b[39;00m\u001b[38;5;21;01m.\u001b[39;00m\u001b[38;5;21;01mcore\u001b[39;00m\u001b[38;5;21;01m.\u001b[39;00m\u001b[38;5;21;01mbase\u001b[39;00m\u001b[38;5;21;01m.\u001b[39;00m\u001b[38;5;21;01mresponse\u001b[39;00m\u001b[38;5;21;01m.\u001b[39;00m\u001b[38;5;21;01mschema\u001b[39;00m \u001b[38;5;28;01mimport\u001b[39;00m Response\n\u001b[0;32m     22\u001b[0m \u001b[38;5;28;01mfrom\u001b[39;00m \u001b[38;5;21;01mllama_index\u001b[39;00m\u001b[38;5;21;01m.\u001b[39;00m\u001b[38;5;21;01mcore\u001b[39;00m\u001b[38;5;21;01m.\u001b[39;00m\u001b[38;5;21;01mbridge\u001b[39;00m\u001b[38;5;21;01m.\u001b[39;00m\u001b[38;5;21;01mpydantic\u001b[39;00m \u001b[38;5;28;01mimport\u001b[39;00m BaseModel, Field\n\u001b[1;32m---> 23\u001b[0m \u001b[38;5;28;01mfrom\u001b[39;00m \u001b[38;5;21;01mllama_index\u001b[39;00m\u001b[38;5;21;01m.\u001b[39;00m\u001b[38;5;21;01mcore\u001b[39;00m\u001b[38;5;21;01m.\u001b[39;00m\u001b[38;5;21;01mcallbacks\u001b[39;00m\u001b[38;5;21;01m.\u001b[39;00m\u001b[38;5;21;01mbase\u001b[39;00m \u001b[38;5;28;01mimport\u001b[39;00m CallbackManager\n\u001b[0;32m     24\u001b[0m \u001b[38;5;28;01mfrom\u001b[39;00m \u001b[38;5;21;01mllama_index\u001b[39;00m\u001b[38;5;21;01m.\u001b[39;00m\u001b[38;5;21;01mcore\u001b[39;00m\u001b[38;5;21;01m.\u001b[39;00m\u001b[38;5;21;01mschema\u001b[39;00m \u001b[38;5;28;01mimport\u001b[39;00m NodeWithScore, QueryBundle, TextNode\n\u001b[0;32m     26\u001b[0m \u001b[38;5;66;03m## Define common types used throughout these components\u001b[39;00m\n",
      "File \u001b[1;32mc:\\0-VARAD-DESHMUKH\\.venv\\Lib\\site-packages\\llama_index\\core\\callbacks\\__init__.py:4\u001b[0m\n\u001b[0;32m      2\u001b[0m \u001b[38;5;28;01mfrom\u001b[39;00m \u001b[38;5;21;01m.\u001b[39;00m\u001b[38;5;21;01mllama_debug\u001b[39;00m \u001b[38;5;28;01mimport\u001b[39;00m LlamaDebugHandler\n\u001b[0;32m      3\u001b[0m \u001b[38;5;28;01mfrom\u001b[39;00m \u001b[38;5;21;01m.\u001b[39;00m\u001b[38;5;21;01mschema\u001b[39;00m \u001b[38;5;28;01mimport\u001b[39;00m CBEvent, CBEventType, EventPayload\n\u001b[1;32m----> 4\u001b[0m \u001b[38;5;28;01mfrom\u001b[39;00m \u001b[38;5;21;01m.\u001b[39;00m\u001b[38;5;21;01mtoken_counting\u001b[39;00m \u001b[38;5;28;01mimport\u001b[39;00m TokenCountingHandler\n\u001b[0;32m      5\u001b[0m \u001b[38;5;28;01mfrom\u001b[39;00m \u001b[38;5;21;01m.\u001b[39;00m\u001b[38;5;21;01mutils\u001b[39;00m \u001b[38;5;28;01mimport\u001b[39;00m trace_method\n\u001b[0;32m      7\u001b[0m __all__ \u001b[38;5;241m=\u001b[39m [\n\u001b[0;32m      8\u001b[0m     \u001b[38;5;124m\"\u001b[39m\u001b[38;5;124mCallbackManager\u001b[39m\u001b[38;5;124m\"\u001b[39m,\n\u001b[0;32m      9\u001b[0m     \u001b[38;5;124m\"\u001b[39m\u001b[38;5;124mCBEvent\u001b[39m\u001b[38;5;124m\"\u001b[39m,\n\u001b[1;32m   (...)\u001b[0m\n\u001b[0;32m     14\u001b[0m     \u001b[38;5;124m\"\u001b[39m\u001b[38;5;124mtrace_method\u001b[39m\u001b[38;5;124m\"\u001b[39m,\n\u001b[0;32m     15\u001b[0m ]\n",
      "File \u001b[1;32mc:\\0-VARAD-DESHMUKH\\.venv\\Lib\\site-packages\\llama_index\\core\\callbacks\\token_counting.py:6\u001b[0m\n\u001b[0;32m      4\u001b[0m \u001b[38;5;28;01mfrom\u001b[39;00m \u001b[38;5;21;01mllama_index\u001b[39;00m\u001b[38;5;21;01m.\u001b[39;00m\u001b[38;5;21;01mcore\u001b[39;00m\u001b[38;5;21;01m.\u001b[39;00m\u001b[38;5;21;01mcallbacks\u001b[39;00m\u001b[38;5;21;01m.\u001b[39;00m\u001b[38;5;21;01mbase_handler\u001b[39;00m \u001b[38;5;28;01mimport\u001b[39;00m BaseCallbackHandler\n\u001b[0;32m      5\u001b[0m \u001b[38;5;28;01mfrom\u001b[39;00m \u001b[38;5;21;01mllama_index\u001b[39;00m\u001b[38;5;21;01m.\u001b[39;00m\u001b[38;5;21;01mcore\u001b[39;00m\u001b[38;5;21;01m.\u001b[39;00m\u001b[38;5;21;01mcallbacks\u001b[39;00m\u001b[38;5;21;01m.\u001b[39;00m\u001b[38;5;21;01mschema\u001b[39;00m \u001b[38;5;28;01mimport\u001b[39;00m CBEventType, EventPayload\n\u001b[1;32m----> 6\u001b[0m \u001b[38;5;28;01mfrom\u001b[39;00m \u001b[38;5;21;01mllama_index\u001b[39;00m\u001b[38;5;21;01m.\u001b[39;00m\u001b[38;5;21;01mcore\u001b[39;00m\u001b[38;5;21;01m.\u001b[39;00m\u001b[38;5;21;01mutilities\u001b[39;00m\u001b[38;5;21;01m.\u001b[39;00m\u001b[38;5;21;01mtoken_counting\u001b[39;00m \u001b[38;5;28;01mimport\u001b[39;00m TokenCounter\n\u001b[0;32m      7\u001b[0m \u001b[38;5;28;01mfrom\u001b[39;00m \u001b[38;5;21;01mllama_index\u001b[39;00m\u001b[38;5;21;01m.\u001b[39;00m\u001b[38;5;21;01mcore\u001b[39;00m\u001b[38;5;21;01m.\u001b[39;00m\u001b[38;5;21;01mutils\u001b[39;00m \u001b[38;5;28;01mimport\u001b[39;00m get_tokenizer\n\u001b[0;32m     10\u001b[0m \u001b[38;5;129m@dataclass\u001b[39m\n\u001b[0;32m     11\u001b[0m \u001b[38;5;28;01mclass\u001b[39;00m \u001b[38;5;21;01mTokenCountingEvent\u001b[39;00m:\n",
      "File \u001b[1;32mc:\\0-VARAD-DESHMUKH\\.venv\\Lib\\site-packages\\llama_index\\core\\utilities\\token_counting.py:6\u001b[0m\n\u001b[0;32m      1\u001b[0m \u001b[38;5;66;03m# Modified from:\u001b[39;00m\n\u001b[0;32m      2\u001b[0m \u001b[38;5;66;03m# https://github.com/nyno-ai/openai-token-counter\u001b[39;00m\n\u001b[0;32m      4\u001b[0m \u001b[38;5;28;01mfrom\u001b[39;00m \u001b[38;5;21;01mtyping\u001b[39;00m \u001b[38;5;28;01mimport\u001b[39;00m Any, Callable, Dict, List, Optional\n\u001b[1;32m----> 6\u001b[0m \u001b[38;5;28;01mfrom\u001b[39;00m \u001b[38;5;21;01mllama_index\u001b[39;00m\u001b[38;5;21;01m.\u001b[39;00m\u001b[38;5;21;01mcore\u001b[39;00m\u001b[38;5;21;01m.\u001b[39;00m\u001b[38;5;21;01mllms\u001b[39;00m \u001b[38;5;28;01mimport\u001b[39;00m ChatMessage, MessageRole\n\u001b[0;32m      7\u001b[0m \u001b[38;5;28;01mfrom\u001b[39;00m \u001b[38;5;21;01mllama_index\u001b[39;00m\u001b[38;5;21;01m.\u001b[39;00m\u001b[38;5;21;01mcore\u001b[39;00m\u001b[38;5;21;01m.\u001b[39;00m\u001b[38;5;21;01mutils\u001b[39;00m \u001b[38;5;28;01mimport\u001b[39;00m get_tokenizer\n\u001b[0;32m     10\u001b[0m \u001b[38;5;28;01mclass\u001b[39;00m \u001b[38;5;21;01mTokenCounter\u001b[39;00m:\n",
      "\u001b[1;31mImportError\u001b[0m: cannot import name 'ChatMessage' from 'llama_index.core.llms' (unknown location)"
     ]
    }
   ],
   "source": [
    "from llama_index.retrievers.bm25 import BM25Retriever\n",
    "from llama_index.core.retrievers import VectorIndexRetriever\n",
    "from llama_index.core.node_parser import SentenceSplitter\n",
    "\n",
    "splitter = SentenceSplitter(chunk_size=1024)\n",
    "nodes = splitter.get_nodes_from_documents(documents)\n",
    "\n",
    "storage_context = StorageContext.from_defaults()\n",
    "storage_context.docstore.add_documents(nodes)\n",
    "\n",
    "index = VectorStoreIndex(\n",
    "    nodes=nodes,\n",
    "    storage_context=storage_context\n",
    ")\n"
   ]
  },
  {
   "cell_type": "code",
   "execution_count": null,
   "metadata": {},
   "outputs": [],
   "source": [
    "\n",
    "# BM25 retriever\n",
    "retriever = BM25Retriever.from_defaults(\n",
    "    nodes=nodes,\n",
    "    similarity_top_k=2\n",
    ")\n",
    "\n",
    "from llama_index.core.response.notebook_utils import display_source_node\n",
    "nodes = retriever.retrieve(prompt)\n",
    "for node in nodes:\n",
    "    display_source_node(node)"
   ]
  },
  {
   "cell_type": "code",
   "execution_count": null,
   "metadata": {},
   "outputs": [],
   "source": [
    "# router retriever\n",
    "from llama_index.core.tools import RetrieverTool\n",
    "\n",
    "vector_retriever = VectorIndexRetriever(index)\n",
    "bm25_retriever = BM25Retriever.from_defaults(\n",
    "    nodes=nodes,\n",
    "    similarity_top_k=2\n",
    ")\n",
    "\n",
    "retriever_tools = [\n",
    "    RetrieverTool.from_defaults(\n",
    "        retriever=vector_retriever,\n",
    "        description='useful in most cases',\n",
    "    ),\n",
    "    RetrieverTool.from_defaults(\n",
    "        retriever=bm25_retriever,\n",
    "        description='useful for searching about specific information',\n",
    "    ),\n",
    "]\n",
    "\n",
    "from llama_index.core.retrievers import RouterRetriever\n",
    "\n",
    "retriever = RouterRetriever.from_defaults(\n",
    "    retriever_tools=retriever_tools,\n",
    "    llm=llm,\n",
    "    select_multi=True,\n",
    ")\n",
    "\n",
    "nodes = retriever.retrieve(prompt)\n",
    "for node in nodes:\n",
    "    display_source_node(node)"
   ]
  },
  {
   "cell_type": "code",
   "execution_count": null,
   "metadata": {},
   "outputs": [],
   "source": [
    "# hybrid retriever + reranking\n",
    "\n",
    "storage_context = StorageContext.from_defaults()\n",
    "storage_context.docstore.add_documents(nodes)\n",
    "\n",
    "index = VectorStoreIndex(\n",
    "    nodes,\n",
    "    storage_context=storage_context\n",
    ")\n",
    "\n",
    "vector_retriever = index.as_retriever(similarity_top_k=10)\n",
    "\n",
    "bm25_retriever = BM25Retriever.from_defaults(\n",
    "    nodes=nodes,\n",
    "    similarity_top_k=10\n",
    ")\n",
    "\n",
    "from llama_index.core.retrievers import BaseRetriever\n",
    "\n",
    "class Hybridretriever(BaseRetriever):\n",
    "    def __init__(self, vector_retriever, bm25_retriever):\n",
    "        self.vector_retriever = vector_retriever\n",
    "        self.bm25_retriever = bm25_retriever\n",
    "        super().__init__()\n",
    "\n",
    "    def _retrieve(self, query, **kwargs):\n",
    "        bm25_nodes = self.bm25_retriever.retriever(query, **kwargs)\n",
    "        vector_nodes = self.vector_retriever.retriever(query, **kwargs)\n",
    "\n",
    "        # combine the two lists of nodes\n",
    "        all_nodes = []\n",
    "        nodes_ids = set()\n",
    "        for n in bm25_nodes + vector_nodes:\n",
    "            if n.node.node_id not in node_ids:\n",
    "                all_nodes.append(n)\n",
    "                node_ids.add(n.node.node_id)\n",
    "        \n",
    "        return all_nodes\n",
    "    \n",
    "\n",
    "index.as_retriever(similarity_top_k=5)\n",
    "hybrid_retriever = Hybridretriever(vector_retriever, bm25_retriever)\n",
    "\n",
    "# re-ranker\n",
    "from llama_index.core.postprocessor import SentenceTransformerRerank\n",
    "\n",
    "reranker = SentenceTransformerRerank(\n",
    "    top_n=4,\n",
    "    model='BAAI/bge-reranker-base'\n",
    ")\n",
    "\n",
    "from llama_index.core import QueryBundle\n",
    "retrieved_nodes = hybrid_retriever.retrieve(prompt)\n",
    "\n",
    "reranked_nodes = reranker.postprocess_nodes(\n",
    "    nodes,\n",
    "    query_bundle = QueryBundle(prompt)\n",
    ")\n",
    "\n",
    "from llama_index.core.response.notebook_utils import display_source_node\n",
    "\n",
    "for node in reranked_nodes:\n",
    "    display_source_node(node)"
   ]
  },
  {
   "cell_type": "code",
   "execution_count": null,
   "metadata": {},
   "outputs": [],
   "source": [
    "# query engine\n",
    "from llama_index.core.query_engine import RetrieverQueryEngine\n",
    "query_engine = RetrieverQueryEngine.from_args(\n",
    "    retriever=hybrid_retriever,\n",
    "    node_postprocessors=[reranker],\n",
    "    llm=llm,\n",
    "    streaming=True\n",
    ")\n",
    "\n",
    "response = query_engine.query(prompt)\n",
    "response.print_response_stream()"
   ]
  },
  {
   "cell_type": "markdown",
   "metadata": {},
   "source": [
    "## Instructor - instruction-tuned embedding model"
   ]
  },
  {
   "cell_type": "code",
   "execution_count": null,
   "metadata": {},
   "outputs": [],
   "source": [
    "from sentence_transformers import SentenceTransformer\n",
    "\n",
    "embedding_model = SentenceTransformer(\"hkunlp/instructor-large\")"
   ]
  },
  {
   "cell_type": "markdown",
   "metadata": {},
   "source": [
    "## News article scraping - `newspaper3k`"
   ]
  },
  {
   "cell_type": "code",
   "execution_count": 74,
   "metadata": {},
   "outputs": [],
   "source": [
    "import newspaper"
   ]
  },
  {
   "cell_type": "code",
   "execution_count": 147,
   "metadata": {},
   "outputs": [
    {
     "data": {
      "text/plain": [
       "183"
      ]
     },
     "execution_count": 147,
     "metadata": {},
     "output_type": "execute_result"
    }
   ],
   "source": [
    "ny = newspaper.build('https://www.nytimes.com/2024/', memoize_articles=False)\n",
    "ny.size()"
   ]
  },
  {
   "cell_type": "code",
   "execution_count": 148,
   "metadata": {},
   "outputs": [
    {
     "data": {
      "text/plain": [
       "['https://www.nytimes.com/section/business/media',\n",
       " 'https://www.nytimes.com/interactive/2023/10/27/arts/music/music-fivemins-collection.html',\n",
       " 'https://www.nytimes.com/2023/10/19/podcasts/serial-kids-rutherford-county.html',\n",
       " 'https://www.nytimes.com/article/submit-crossword-puzzles-the-new-york-times.html',\n",
       " 'https://www.nytimes.com/2022/09/19/crosswords/mini-to-maestro-part-1.html',\n",
       " 'https://theathletic.com/5029170/2023/11/06/free-agents-mlb-list/',\n",
       " 'https://www.nytimes.com/2024/02/14/world/asia/pakistan-election-coalition-government.html',\n",
       " 'https://www.nytimes.com/2024/02/13/us/politics/mayorkas-impeachment-house.html',\n",
       " 'https://www.nytimes.com/2024/02/13/us/politics/mayorkas-impeachment-vote-trial.html',\n",
       " 'https://www.nytimes.com/live/2024/02/14/world/israel-hamas-war-gaza-news',\n",
       " 'https://www.nytimes.com/interactive/2023/10/07/world/middleeast/israel-gaza-maps.html',\n",
       " 'https://www.nytimes.com/article/israel-gaza-photos.html',\n",
       " 'https://www.nytimes.com/interactive/2024/02/01/magazine/israel-founding-palestinian-conflict.html',\n",
       " 'https://www.nytimes.com/2024/02/06/world/middleeast/israel-idf-soldiers-war-social-media-video.html',\n",
       " 'https://www.nytimes.com/2024/02/04/world/middleeast/gaza-photos-israel-war.html',\n",
       " 'https://www.nytimes.com/2024/02/14/world/middleeast/mohammed-dahlan-interview-gaza-uae.html',\n",
       " 'https://www.nytimes.com/2024/02/13/world/asia/indonesia-election-jokowi-role.html',\n",
       " 'https://www.nytimes.com/2024/02/12/world/asia/indonesia-presidential-election-explained.html',\n",
       " 'https://www.nytimes.com/2024/02/12/dining/i-love-you-but-i-hate-your-cooking.html',\n",
       " 'https://www.nytimes.com/interactive/2024/02/13/well/live/love-acts-relationships.html',\n",
       " 'https://www.nytimes.com/2024/02/14/world/asia/china-liu-jianchao-diplomat.html',\n",
       " 'https://www.nytimes.com/interactive/2024/02/13/climate/flooding-sea-levels-groundwater.html',\n",
       " 'https://www.nytimes.com/2024/02/14/nyregion/democrats-house-suozzi-biden.html',\n",
       " 'https://www.nytimes.com/2024/02/14/us/politics/nikki-haley-south-carolina-trump.html',\n",
       " 'https://www.nytimes.com/2024/02/14/us/politics/biden-michigan-gaza-uncommitted.html',\n",
       " 'https://www.nytimes.com/2024/02/14/world/europe/sheffield-england-football-soceer.html',\n",
       " 'https://www.nytimes.com/interactive/2024/02/13/magazine/oscars-actors-free-time.html',\n",
       " 'https://www.nytimes.com/2024/02/14/business/economy/productivity-economy.html',\n",
       " 'https://www.nytimes.com/2024/02/14/opinion/us-troops-syria-iraq-withdraw.html',\n",
       " 'https://www.nytimes.com/2024/02/14/opinion/biden-trump-inflation-prices.html',\n",
       " 'https://www.nytimes.com/2024/02/14/opinion/ai-economy-jobs-colleges.html',\n",
       " 'https://www.nytimes.com/2024/02/13/opinion/gop-senate-ukraine-aid.html',\n",
       " 'https://www.nytimes.com/2024/02/14/opinion/republicans-isolationsim-ukraine-russia-congress.html',\n",
       " 'https://www.nytimes.com/2024/02/14/opinion/marriage-advice-friends.html',\n",
       " 'https://www.nytimes.com/2024/02/14/opinion/marwan-barghouti-palestinian-israel.html',\n",
       " 'https://www.nytimes.com/2024/02/14/opinion/flowers-environment-valentines-day.html',\n",
       " 'https://www.nytimes.com/live/2024/02/13/opinion/thepoint/house-impeachment-mayorkas',\n",
       " 'https://www.nytimes.com/live/2024/02/13/opinion/thepoint/measles-outbreak-vaccine',\n",
       " 'https://www.nytimes.com/interactive/2024/02/13/opinion/independents-biden-focus-group.html',\n",
       " 'https://www.nytimes.com/2024/02/13/opinion/black-americans-federal-reparations.html',\n",
       " 'https://www.nytimes.com/2024/02/13/opinion/trump-campaign-biden-aging.html',\n",
       " 'https://www.nytimes.com/2024/02/13/opinion/inflation-biden-economy.html',\n",
       " 'https://www.nytimes.com/2024/02/13/opinion/israel-hamas-gaza.html',\n",
       " 'https://www.nytimes.com/2024/02/13/opinion/love-duty-grace.html',\n",
       " 'https://www.nytimes.com/2024/02/14/world/asia/itaewon-conviction-halloween-south-korea.html',\n",
       " 'https://www.nytimes.com/2024/02/13/business/economy/norway-inflation-reduction-act.html',\n",
       " 'https://www.nytimes.com/2024/02/13/business/bob-moore-dead.html',\n",
       " 'https://www.nytimes.com/2024/02/14/us/fani-willis-black-women-trump-georgia.html',\n",
       " 'https://www.nytimes.com/2024/02/13/science/spacex-launch-moon-lander-intuitive.html',\n",
       " 'https://www.nytimes.com/2024/02/13/health/alaskapox-virus-fatality.html',\n",
       " 'https://www.nytimes.com/2024/02/13/health/covid-isolation-cdc.html',\n",
       " 'https://www.nytimes.com/2024/02/13/arts/glaad-video-games-lgbtq.html',\n",
       " 'https://www.nytimes.com/2024/02/13/arts/music/teodor-currentzis-canceled.html',\n",
       " 'https://www.nytimes.com/2024/02/13/us/houston-shooting-deputies-apartment-intruder.html',\n",
       " 'https://www.nytimes.com/2024/02/13/style/designer-party-outfits.html',\n",
       " 'https://www.nytimes.com/2024/02/13/style/usher-goicoechea-marriage.html',\n",
       " 'https://www.nytimes.com/2024/02/13/theater/the-apiary-review.html',\n",
       " 'https://www.nytimes.com/2024/02/13/t-magazine/milan-palazzo-nicolo-castellini-baldissera.html',\n",
       " 'https://www.nytimes.com/2024/02/12/style/daniella-kallmeyer-womens-suits.html',\n",
       " 'https://www.nytimes.com/ca/section/business/media',\n",
       " 'https://www.nytimes.com/2024/02/14/podcasts/mayorkas-impeachment-santos.html',\n",
       " 'https://cn.nytimes.com/topic/20160427/pulitzers-topic/?utm_source=news&utm_medium=nav&utm_campaign=nav-topic-nyt-pulitzer-prize',\n",
       " 'https://cn.nytimes.com/interactive/2024/top2023/top-stories.html',\n",
       " 'https://cn.nytimes.com/business/20240209/china-deflation/',\n",
       " 'https://cn.nytimes.com/usa/20240209/biden-special-counsel-report-documents/',\n",
       " 'https://cn.nytimes.com/business/20240208/united-states-china-mexico-trade/',\n",
       " 'https://cn.nytimes.com/usa/20240208/china-iran-arrests-export-controls/',\n",
       " 'https://cn.nytimes.com/usa/20240207/trump-immunity-appeals-court/',\n",
       " 'https://cn.nytimes.com/china/20240206/china-travel-weather-lunar-new-year/',\n",
       " 'https://cn.nytimes.com/technology/20240206/google-layoffs-work-culture/',\n",
       " 'https://cn.nytimes.com/china/20240206/australian-writer-yang-china-death-sentence/',\n",
       " 'https://cn.nytimes.com/world/20240206/king-charles-cancer/',\n",
       " 'https://cn.nytimes.com/china/20240205/china-nuclear-missiles/',\n",
       " 'https://cn.nytimes.com/china/20240205/china-dali/',\n",
       " 'https://cn.nytimes.com/business/20240205/india-iphone-tech-manufacturing/',\n",
       " 'https://cn.nytimes.com/usa/20240202/us-immigration-asylum-border/',\n",
       " 'https://cn.nytimes.com/business/20240209/china-chips-house-select-committee/',\n",
       " 'https://cn.nytimes.com/culture/20240209/ai-weiwei-zodiac-memoir/',\n",
       " 'https://cn.nytimes.com/technology/20240208/apple-vision-pro-review/',\n",
       " 'https://cn.nytimes.com/world/20240207/king-charles-cancer-diagnosis-monarchy/',\n",
       " 'https://cn.nytimes.com/world/20240207/india-china-pigeon-spy/',\n",
       " 'https://cn.nytimes.com/technology/20240207/why-is-big-tech-still-cutting-jobs/',\n",
       " 'https://cn.nytimes.com/interactive/2024/top2023/top-oped.html',\n",
       " 'https://cn.nytimes.com/opinion/20240206/america-china-future/',\n",
       " 'https://cn.nytimes.com/opinion/20240201/birth-rates-baby-bust/',\n",
       " 'https://cn.nytimes.com/opinion/20240130/china-redsea-houthi-shipping/',\n",
       " 'https://cn.nytimes.com/slideshow/20231226/2023-yip-2h/',\n",
       " 'https://cn.nytimes.com/slideshow/20231224/2023-yip-1h/',\n",
       " 'https://cn.nytimes.com/slideshow/20221221/year-in-pictures-2022-2/',\n",
       " 'https://cn.nytimes.com/slideshow/20221220/year-in-pictures-2022-1/',\n",
       " 'https://cn.nytimes.com/slideshow/20151021/c21sino-jiang-ss/',\n",
       " 'https://www.nytimes.com/video/china',\n",
       " 'https://www.nytimes.com/zh-hans/interactive/2024/01/09/chinese/china-nuclear-tests-lop-nur.html',\n",
       " 'https://cn.nytimes.com/technology/20231226/the-2023-good-tech-awards/',\n",
       " 'https://www.nytimes.com/zh-hans/interactive/2023/12/19/chinese/myanmar-cyber-scam.html',\n",
       " 'https://cn.nytimes.com/film-tv/20231215/best-movies-2023/',\n",
       " 'https://cn.nytimes.com/books/20231201/best-books-2023/',\n",
       " 'https://www.nytimes.com/zh-hans/interactive/2023/11/24/chinese/china-xi-rule.html',\n",
       " 'https://cn.nytimes.com/china/20231028/li-keqiang-mourning-online/',\n",
       " 'https://cn.nytimes.com/health/20231106/menopause-hot-flashes-hormone-therapy/',\n",
       " 'https://cn.nytimes.com/world/20230912/putins-forever-war/',\n",
       " 'https://www.nytimes.com/international/section/business/media',\n",
       " 'https://cooking.nytimes.com/68861692-nyt-cooking/41186253-from-the-veggie-newsletter-by-tanya-sichynsky',\n",
       " 'https://cooking.nytimes.com/68861692-nyt-cooking/2274598-easy-30-minute-vegetarian-recipes',\n",
       " 'https://cooking.nytimes.com/68861692-nyt-cooking/20651790-easy-baking-recipes',\n",
       " 'https://cooking.nytimes.com/68861692-nyt-cooking/20404912-lunch-ideas',\n",
       " 'https://cooking.nytimes.com/68861692-nyt-cooking/1001962-best-bread-recipes',\n",
       " 'https://cooking.nytimes.com/68861692-nyt-cooking/2975650-our-best-summer-picnic-recipes',\n",
       " 'https://cooking.nytimes.com/recipes/1025086-citrus-beet-and-avocado-salad',\n",
       " 'https://cooking.nytimes.com/recipes/1024901-tardivo-salad-with-pistachio-and-citrus',\n",
       " 'https://cooking.nytimes.com/recipes/1023917-pastrami-spiced-steak-with-charred-cabbage',\n",
       " 'https://cooking.nytimes.com/recipes/1021453-spicy-tomato-coconut-bisque-with-shrimp-and-mushrooms',\n",
       " 'https://cooking.nytimes.com/recipes/1019684-garlic-bread',\n",
       " 'https://cooking.nytimes.com/recipes/1017099-ina-gartens-make-ahead-coquilles-st-jacques',\n",
       " 'https://cooking.nytimes.com/68861692-nyt-cooking/839100-valentines-day-dinner-ideas-and-recipes',\n",
       " 'https://cooking.nytimes.com/recipes/1025044-sweet-and-spicy-grilled-chicken-wings',\n",
       " 'https://cooking.nytimes.com/recipes/1025081-easy-no-bake-pistachio-cheesecake',\n",
       " 'https://cooking.nytimes.com/recipes/1025043-crispy-sour-cream-and-onion-wings',\n",
       " 'https://cooking.nytimes.com/recipes/1025030-suspiro-a-la-limena-caramel-pudding-with-port-meringue',\n",
       " 'https://cooking.nytimes.com/recipes/1025073-black-pepper-and-onion-spaghetti',\n",
       " 'https://cooking.nytimes.com/recipes/1025040-bagara-baingan-creamy-spiced-eggplant',\n",
       " 'https://cooking.nytimes.com/recipes/1022086-roasted-chicken-with-fish-sauce-butter',\n",
       " 'https://cooking.nytimes.com/recipes/1023826-green-curry-salmon-with-coconut-rice',\n",
       " 'https://cooking.nytimes.com/recipes/1025064-ginger-scallion-chicken-and-rice',\n",
       " 'https://cooking.nytimes.com/recipes/1021066-chile-crisp-shrimp-and-green-beans',\n",
       " 'https://cooking.nytimes.com/recipes/1021833-thit-heo-kho-trung-pork-and-eggs-in-caramel-sauce',\n",
       " 'https://cooking.nytimes.com/recipes/1016135-rishia-zimmerns-chicken-with-shallots',\n",
       " 'https://cooking.nytimes.com/recipes/1022653-quick-tomato-soup-with-grilled-cheese',\n",
       " 'https://cooking.nytimes.com/recipes/1013451-longevity-noodles-with-chicken-ginger-and-mushrooms',\n",
       " 'https://cooking.nytimes.com/recipes/1020766-red-curry-lentils-with-sweet-potatoes-and-spinach',\n",
       " 'https://cooking.nytimes.com/recipes/1018299-weeknight-fancy-chicken-and-rice',\n",
       " 'https://cooking.nytimes.com/recipes/1019863-roasted-squash-with-turmeric-ginger-chickpeas',\n",
       " 'https://cooking.nytimes.com/recipes/1021506-creamy-one-pot-mushroom-and-leek-pasta',\n",
       " 'https://cooking.nytimes.com/recipes/1019913-baked-potato-soup',\n",
       " 'https://cooking.nytimes.com/recipes/1020853-meatloaf',\n",
       " 'https://cooking.nytimes.com/recipes/1023869-white-bean-rice-and-dill-soup',\n",
       " 'https://cooking.nytimes.com/recipes/1020833-stuffed-shells',\n",
       " 'https://cooking.nytimes.com/recipes/1021776-lemony-white-bean-soup-with-turkey-and-greens',\n",
       " 'https://cooking.nytimes.com/recipes/1023629-butternut-squash-congee-with-chile-oil',\n",
       " 'https://cooking.nytimes.com/recipes/1020738-mushroom-bourguignon',\n",
       " 'https://cooking.nytimes.com/recipes/1020669-slow-cooker-salsa-verde-chicken',\n",
       " 'https://cooking.nytimes.com/recipes/1020898-chicken-and-rice-soup',\n",
       " 'https://cooking.nytimes.com/recipes/1020038-beignets',\n",
       " 'https://cooking.nytimes.com/recipes/8578-new-orleans-cold-drip-coffee',\n",
       " 'https://cooking.nytimes.com/recipes/1023912-buttery-pancakes-with-lemon-and-sugar',\n",
       " 'https://cooking.nytimes.com/recipes/1020932-frozen-irish-coffee',\n",
       " 'https://cooking.nytimes.com/recipes/3240-lindy-boggss-oven-fried-chicken',\n",
       " 'https://cooking.nytimes.com/68861692-nyt-cooking/112581976-easy-valentines-day-dinner-recipes',\n",
       " 'https://cooking.nytimes.com/recipes/1021298-seared-scallops-with-jammy-cherry-tomatoes',\n",
       " 'https://cooking.nytimes.com/recipes/1021277-sheet-pan-baked-feta-with-broccolini-tomatoes-and-lemon',\n",
       " 'https://cooking.nytimes.com/recipes/1020920-asparagus-goat-cheese-and-tarragon-tart',\n",
       " 'https://cooking.nytimes.com/recipes/1017244-roasted-salmon-glazed-with-brown-sugar-and-mustard',\n",
       " 'https://cooking.nytimes.com/recipes/1012898-creamy-one-pot-pasta-with-chicken-and-mushrooms',\n",
       " 'https://cooking.nytimes.com/recipes/1022637-crispy-sheet-pan-noodles-with-glazed-tofu',\n",
       " 'https://cooking.nytimes.com/recipes/1023003-soy-glazed-salmon-hand-rolls',\n",
       " 'https://cooking.nytimes.com/recipes/1012796-sea-scallops-with-brown-butter-capers-and-lemon',\n",
       " 'https://cooking.nytimes.com/recipes/1022257-linguine-and-clams-with-fresh-red-sauce',\n",
       " 'https://cooking.nytimes.com/recipes/1019800-hot-buttered-rum',\n",
       " 'https://cooking.nytimes.com/recipes/1020201-amaro-spritz',\n",
       " 'https://cooking.nytimes.com/68861692-nyt-cooking/112219675-easy-chocolate-dessert-recipes',\n",
       " 'https://cooking.nytimes.com/recipes/1014542-bittersweet-chocolate-mousse-with-fleur-de-sel',\n",
       " 'https://cooking.nytimes.com/recipes/1019957-chocolate-lava-cake-for-two',\n",
       " 'https://cooking.nytimes.com/recipes/1023887-chocolate-earl-grey-creme-brulee',\n",
       " 'https://cooking.nytimes.com/recipes/1019232-toll-house-chocolate-chip-cookies',\n",
       " 'https://cooking.nytimes.com/recipes/1018924-hot-fudge-and-salted-chocolate-bits-sundae',\n",
       " 'https://cooking.nytimes.com/recipes/1020085-chocolate-mug-cake',\n",
       " 'https://cooking.nytimes.com/recipes/1020831-blender-chocolate-mousse',\n",
       " 'https://cooking.nytimes.com/recipes/1020520-tiny-salty-chocolaty-cookies',\n",
       " 'https://cooking.nytimes.com/recipes/1013489-chocolate-shell-ice-cream-topping',\n",
       " 'https://cooking.nytimes.com/recipes/1021902-braised-white-beans-and-greens-with-parmesan',\n",
       " 'https://cooking.nytimes.com/recipes/1020459-sweet-and-sour-eggplant-with-garlic-chips',\n",
       " 'https://cooking.nytimes.com/recipes/1024063-salmon-with-garlic-butter-and-tomato-pasta',\n",
       " 'https://cooking.nytimes.com/recipes/1022024-crispy-gnocchi-with-burst-tomatoes-and-mozzarella',\n",
       " 'https://cooking.nytimes.com/recipes/1024042-arroz-chaufa-fried-rice-with-chicken-and-bell-pepper',\n",
       " 'https://cooking.nytimes.com/recipes/1017910-skillet-chicken-with-tomatoes-pancetta-and-mozzarella',\n",
       " 'https://cooking.nytimes.com/recipes/1020860-pasta-e-ceci-italian-pasta-and-chickpea-stew',\n",
       " 'https://cooking.nytimes.com/recipes/1023609-chile-crisp-fettuccine-alfredo-with-spinach',\n",
       " 'https://cooking.nytimes.com/recipes/1023047-sticky-coconut-chicken-and-rice',\n",
       " 'https://cooking.nytimes.com/recipes/1023301-soy-braised-tofu-with-bok-choy',\n",
       " 'https://cooking.nytimes.com/recipes/7031-baked-mustard-herb-chicken-legs',\n",
       " 'https://cooking.nytimes.com/recipes/1020543-mayo-marinated-chicken-with-chimichurri',\n",
       " 'https://cooking.nytimes.com/guides/56-how-to-stock-a-modern-pantry',\n",
       " 'https://cooking.nytimes.com/guides/46-how-to-use-an-instant-pot']"
      ]
     },
     "execution_count": 148,
     "metadata": {},
     "output_type": "execute_result"
    }
   ],
   "source": [
    "ny.article_urls()"
   ]
  },
  {
   "cell_type": "code",
   "execution_count": 105,
   "metadata": {},
   "outputs": [],
   "source": [
    "prefix = r'https://www.financialexpress.com/business/'"
   ]
  },
  {
   "cell_type": "code",
   "execution_count": 106,
   "metadata": {},
   "outputs": [],
   "source": [
    "business = []\n",
    "for article in fe.articles:\n",
    "    if article.url.startswith(prefix):\n",
    "        business.append(article)"
   ]
  },
  {
   "cell_type": "code",
   "execution_count": 107,
   "metadata": {},
   "outputs": [
    {
     "data": {
      "text/plain": [
       "135"
      ]
     },
     "execution_count": 107,
     "metadata": {},
     "output_type": "execute_result"
    }
   ],
   "source": [
    "len(business)"
   ]
  },
  {
   "cell_type": "code",
   "execution_count": 100,
   "metadata": {},
   "outputs": [
    {
     "name": "stdout",
     "output_type": "stream",
     "text": [
      "https://www.financialexpress.com/business/airlines-aviation-indigos-fleet-expansion-four-a320neo-aircraft-secured-in-boc-aviation-deal-all-about-engine-design-amp-enhanced-travel-experience-3393837/\n",
      "https://www.financialexpress.com/business/airlines-aviation-aviation-sectors-upward-trajectory-crisil-predicts-over-20-surge-in-operating-profit-for-domestic-airlines-fleet-expansion-in-focus-3393556/\n",
      "https://www.financialexpress.com/business/infrastructure-rites-ad-ports-group-sign-pact-for-infrastructure-development-3394219/\n",
      "https://www.financialexpress.com/business/industry-ethos-limited-posts-q3-profit-growth-of-23-5-to-rs-2552-cr-revenue-up-224-despite-shradh-chennai-floods-store-renovation-3394273/\n",
      "https://www.financialexpress.com/business/brandwagon-icubeswire-appoints-nivedita-dwivedi-as-the-senior-business-director-3393982/\n",
      "https://www.financialexpress.com/business/industry-natco-pharma-q3-profit-jumps-241-4-to-rs-21270-crore-interim-dividend-announced-3394169/\n",
      "https://www.financialexpress.com/business/roadways-year-ender-2023-beyond-highways-and-express-routes-a-recap-of-indian-roadways-trailblazing-milestones-this-year-3350294/\n",
      "https://www.financialexpress.com/business/railways-bengaluru-coimbatore-vande-bharat-express-likely-to-start-from-december-30-aims-regional-connectivity-trial-run-takes-around-5-hours-45-minutes-to-cover-the-distancenbsp-3350248/\n",
      "https://www.financialexpress.com/business/defence-indias-continued-support-second-tranche-of-2-5-million-for-palestinian-refugees-3350289/\n",
      "https://www.financialexpress.com/business/airlines-aviation-year-ender-2023-ahmedabad-airport-soars-to-new-heights-a-year-of-unprecedented-achievementsnbspfor-sardar-vallabhbhai-patel-international-airport-3349686/\n"
     ]
    }
   ],
   "source": [
    "for article in business[:10]:\n",
    "    print(article)"
   ]
  },
  {
   "cell_type": "code",
   "execution_count": 112,
   "metadata": {},
   "outputs": [
    {
     "name": "stdout",
     "output_type": "stream",
     "text": [
      "IndiGo’s Fleet Expansion: Four A320NEO aircraft secured in BOC aviation deal – All about engine design & enhanced travel experience\n",
      "-*-*-*-*-*-*-*-*-*-*-*-*-*-*-*\n",
      "BOC Aviation Ltd, headquartered in Singapore, announced on Wednesday that it has finalized a finance lease agreement with InterGlobe Aviation Ltd (IndiGo) for four Airbus A320NEO aircraft. Steven Townend, CEO and Managing Director of BOC Aviation, expressed satisfaction with the deal, stating, “We are pleased to be closing another four finance leases with IndiGo. We continue to work closely with our long-time customer to support its expansion strategy as it builds a fleet of the latest technology fuel-efficient aircraft.”\n",
      "\n",
      "What kind of engine is installed in A320NEO aircraft?\n",
      "\n",
      "All four aircraft are equipped with CFM LEAP-1A engines and are scheduled for delivery in 2024. Riyaz Peermohamed, Chief Aircraft Acquisition and Financing Officer of IndiGo highlighted the significance of these aircraft in supporting the company’s expansion plans and strengthening its position in both domestic and international markets.\n",
      "\n",
      "Indigo’s attempt to deliver enhanced travel experience\n",
      "\n",
      "Peermohamed further emphasized IndiGo’s commitment to delivering unparalleled travel experiences for its customers, stating that this partnership would allow them to continue delivering affordable, on-time, and hassle-free travel across their extensive 6E network.\n",
      "\n",
      "(With PTI Inputs)\n",
      "---------------------------------------------\n",
      "Aviation sector’s upward trajectory: CRISIL predicts over 20% surge in operating profit for domestic airlines, fleet expansion in focus\n",
      "-*-*-*-*-*-*-*-*-*-*-*-*-*-*-*\n",
      "The upcoming fiscal year promises a significant rise in operating profit for the domestic airline industry, exceeding a 20% increase following a nearly tripled performance in the current fiscal period, the CRISIL Rating mentioned.\n",
      "\n",
      "This surge is fuelled by a robust rebound in passenger traffic, stabilised foreign exchange rate, and the adeptness of airlines to transfer volatile fuel costs to passengers.\n",
      "\n",
      "“Operating profit growth in the next fiscal is anticipated to hover around 20%, up from the estimated Rs 18,000-20,000 crore in the current fiscal, notwithstanding potential technical issues with certain engine types that may ground some aircraft and curtail fleet expansions. While the momentum in passenger traffic growth is expected to persist, operating profit growth is likely to normalize due to the high base effect from this fiscal,” Mohit Makhija, Senior Director at CRISIL Ratings said.\n",
      "\n",
      "Despite the anticipated substantial rise in debt, including lease liabilities, across the current and forthcoming fiscal years to accommodate fleet expansions, credit metrics are expected to remain robust.\n",
      "\n",
      "A study of 3 marquee airplanes\n",
      "\n",
      "CRISIL ratings in an analysis of three major airlines, constituting a two-thirds share of India’s air traffic, mentioned that passenger traffic is projected to rise by 18–20% this fiscal year, surpassing pre-pandemic levels comfortably. This is fueled by a surge in both business and leisure travel. The upward trajectory is expected to persist into the following fiscal year, buoyed by economic growth prospects.\n",
      "\n",
      "Further, the increase in passenger traffic has fortified airlines’ capability to offload fuel costs, which typically account for 40-50% of the total expenses, onto passengers.\n",
      "\n",
      "\n",
      "\n",
      "Notably, despite fuel prices more than doubling over the past three fiscal years, the gross margin has remained steady.\n",
      "\n",
      "\n",
      "\n",
      "Another contributing factor to enhanced profitability is diminished foreign exchange losses compared to the preceding fiscal year. Forex reserves profoundly impact airline profitability as a significant portion of their debt and costs are denominated in foreign currency.\n",
      "\n",
      "Bolstering fleet additions\n",
      "\n",
      "A confluence of favorable conditions and promising profit potential highlights the case for fleet expansions. Importantly, domestic airlines have committed to substantial purchase orders in recent years. Net fleet additions by the domestic airlines are projected to reach 80-85 aircraft this fiscal year, with similar levels expected in the subsequent fiscal.\n",
      "\n",
      "Approximately two-thirds of the capital expenditure for these fleet expansions will be financed through debt, including lease liabilities, with the remainder sourced from internal accruals and equity injections.\n",
      "\n",
      "“While net debt, including lease liabilities, is expected to double to approximately Rs 1 lakh crore by the end of the next fiscal year compared to fiscal 2023, credit metrics will strengthen supported by robust operating performance and equity injections. The net debt to Ebitdar ratio is anticipated to improve to less than 5 times over this fiscal year and the next, down from 8.6 times in fiscal 2023 and significantly below pre-pandemic levels,” Snehil Shukla, Associate Director at CRISIL Ratings said.\n",
      "---------------------------------------------\n"
     ]
    }
   ],
   "source": [
    "for article in business[:2]:\n",
    "    article.download()\n",
    "    article.parse()\n",
    "    print(article.title, end='\\n-*-*-*-*-*-*-*-*-*-*-*-*-*-*-*\\n')\n",
    "    print(article.text, end='\\n---------------------------------------------\\n')"
   ]
  },
  {
   "cell_type": "code",
   "execution_count": 136,
   "metadata": {},
   "outputs": [
    {
     "data": {
      "text/plain": [
       "'IndiGo’s Fleet Expansion: Four A320NEO aircraft secured in BOC aviation deal – All about engine design & enhanced travel experience'"
      ]
     },
     "execution_count": 136,
     "metadata": {},
     "output_type": "execute_result"
    }
   ],
   "source": [
    "article.meta_data['og']['title']"
   ]
  },
  {
   "cell_type": "code",
   "execution_count": 137,
   "metadata": {},
   "outputs": [
    {
     "data": {
      "text/plain": [
       "str"
      ]
     },
     "execution_count": 137,
     "metadata": {},
     "output_type": "execute_result"
    }
   ],
   "source": [
    "type(article.text)"
   ]
  },
  {
   "cell_type": "code",
   "execution_count": 7,
   "metadata": {},
   "outputs": [
    {
     "name": "stdout",
     "output_type": "stream",
     "text": [
      "https://www.financialexpress.com/entertainment\n",
      "https://www.financialexpress.com/\n",
      "https://www.financialexpress.com/videos\n",
      "https://www.financialexpress.com/education-2\n",
      "https://hindi.financialexpress.com\n",
      "https://epaper.financialexpress.com\n",
      "https://www.financialexpress.com/photos\n",
      "https://www.financialexpress.com/world-news\n",
      "https://www.financialexpress.com/defence\n",
      "https://finlit.financialexpress.com\n",
      "https://www.financialexpress.com/brandwagon\n",
      "https://www.financialexpress.com/opinion\n",
      "https://www.financialexpress.com/industry\n",
      "https://financialexpress.com\n",
      "https://www.financialexpress.com/auto\n",
      "https://www.financialexpress.com/lifestyle\n",
      "https://www.financialexpress.com/india-news\n",
      "https://www.financialexpress.com/money\n",
      "https://www.financialexpress.com/web-stories\n",
      "https://www.financialexpress.com\n",
      "https://www.financialexpress.com/economy\n",
      "https://www.financialexpress.com/market\n",
      "https://www.financialexpress.com/sports\n"
     ]
    }
   ],
   "source": [
    "for category in fe.category_urls():\n",
    "    print(category)"
   ]
  },
  {
   "cell_type": "code",
   "execution_count": 8,
   "metadata": {},
   "outputs": [],
   "source": [
    "for feed in fe.feed_urls():\n",
    "    print(feed)"
   ]
  },
  {
   "cell_type": "code",
   "execution_count": 9,
   "metadata": {},
   "outputs": [
    {
     "data": {
      "text/plain": [
       "'financialexpress'"
      ]
     },
     "execution_count": 9,
     "metadata": {},
     "output_type": "execute_result"
    }
   ],
   "source": [
    "fe.brand"
   ]
  },
  {
   "cell_type": "code",
   "execution_count": 10,
   "metadata": {},
   "outputs": [
    {
     "data": {
      "text/plain": [
       "'Business News Live: Find here latest business news and finance news, share market updates, live stock market news, IPO update, banking and insurance sector updates. Check out for business news today in india, and live BSE/NSE stock price updates at financialexpress.com.'"
      ]
     },
     "execution_count": 10,
     "metadata": {},
     "output_type": "execute_result"
    }
   ],
   "source": [
    "fe.description"
   ]
  },
  {
   "cell_type": "code",
   "execution_count": 13,
   "metadata": {},
   "outputs": [],
   "source": [
    "article = fe.articles[0]\n",
    "article.download()"
   ]
  },
  {
   "cell_type": "code",
   "execution_count": 60,
   "metadata": {},
   "outputs": [
    {
     "data": {
      "text/plain": [
       "'https://www.financialexpress.com/market/indian-indices-nse-nifty-50-companies-list/'"
      ]
     },
     "execution_count": 60,
     "metadata": {},
     "output_type": "execute_result"
    }
   ],
   "source": [
    "article.url"
   ]
  },
  {
   "cell_type": "code",
   "execution_count": 15,
   "metadata": {},
   "outputs": [],
   "source": [
    "article.parse()"
   ]
  },
  {
   "cell_type": "code",
   "execution_count": 59,
   "metadata": {},
   "outputs": [
    {
     "name": "stdout",
     "output_type": "stream",
     "text": [
      "Major Milestones\n",
      "\n",
      "The \"Nifty 50\" refers to the National Stock Exchange of India's benchmark index, Nifty 50. It comprises 50 of the large and liquid stocks traded on the NSE. The index has hit several major milestones through the years. Here are some of the significant milestones for the Nifty 50\n",
      "\n",
      "Introduction of Nifty 50 : The Nifty 50 index was introduced by the National Stock Exchange of India (NSE) on April 22, 1996. It provided a benchmark for investors to track the performance of the Indian stock market.\n",
      "\n",
      "Nifty at 1000: The Nifty 50 index started with a base value of 1000.\n",
      "\n",
      "Nifty at 2,000: The Nifty scaled the first 1000 points in 8 years. It touched 2000 on December 2, 2004.\n",
      "\n",
      "Nifty at 3,000: However it took the Nifty a little over a year to scale the next 1000 points from 2000 to 3000. It hit the 3000 mark on January 30, 2006.\n",
      "\n",
      "Global Financial Crisis: Just like all other key global indices, the index faced a major setback during the global financial crisis in 2008. It fell significantly, mirroring the impact of the crisis on the Indian economy and financial markets.\n",
      "\n",
      "Crossing 10,000 Points: The Nifty 50 index crossed the significant milestone of 10,000-point mark on July 25, 2017. This was on the back of several reforms undertaken to improve the country’s financial health coupled with RBI Policy push and favourable monsoon.\n",
      "\n",
      "Covid-19 Pandemic: The Covid-19 pandemic in 2020 led to extreme volatility in global financial markets, including the Nifty 50. The index experienced a sharp decline in February-March 2020 but recovered significantly in the latter half of the year.\n",
      "\n",
      "Technology and Pharma Sector Surge: In the wake of the pandemic, there was a notable surge in technology and pharmaceutical sectors. These sectors played a crucial role in the market recovery in 2020-2021.\n",
      "\n",
      "Market Capitalization Milestones: The index has seen various companies become India's largest by market capitalization over different periods. Companies like Reliance Industries, Tata Consultancy Services (TCS), and HDFC Bank have taken turns as the largest companies by market cap.\n",
      "\n",
      "Sectoral Changes: The composition of the Nifty 50 index is periodically reviewed and updated to reflect the changing dynamics of the Indian economy. Companies from different sectors have been added or removed from the index based on their market performance.\n",
      "\n",
      "Nifty 50 major timelines\n",
      "\n",
      "Nifty at 1,000: The index was launched with a base value of 1,000 in 1996.\n",
      "\n",
      "Nifty at 2,000: It touched 2000 on December 2, 2004.\n",
      "\n",
      "Nifty at 3,000: Nifty zoomed past the 3,000 mark on January 30, 2006.\n",
      "\n",
      "Nifty at 4,000: Nifty crossed the 4000 mark on December 1, 2006.\n",
      "\n",
      "Nifty at 5,000: Nifty sailed to 5,000 on September 27, 2007.\n",
      "\n",
      "Nifty at 6000: Nifty ended 2007 with another 1000-point gain.It hit 6000 onDecember 11, 2007.\n",
      "\n",
      "Nifty at 7,000: The journey from 6000 to 7000 took 7 years. Nifty touched 7,000 on May 12, 2014.\n",
      "\n",
      "Nifty at 8,000: The 2014 rally continued, Nifty hit 8,000 on September 1, 2014.\n",
      "\n",
      "Nifty at 9,000: In 2017, Nifty touched the 9,000-mark on March 14, 2017.\n",
      "\n",
      "Nifty at 10,000: The Nifty hit the psychologically important 10,000 mark on July 25, 2017.\n",
      "\n",
      "Nifty at 11,000: On January 23, 2018, Nifty hots 11,000 first time ever.\n",
      "\n",
      "Nifty at 12,000: On June 3, 2019, Nifty closed above 12000 for the first time.\n",
      "\n",
      "Pandemic Low: Nifty slumped to 7,511 on March 24, 2020.\n",
      "\n",
      "Nifty at 13,000: Nifty hit 13,000 after a steady recovery from the Pandemic lows and hot 13,000 for first time on November 24, 2020.\n",
      "\n",
      "Nifty at 14,000: On the last trading day of 2020- December 31, Nifty hit 14,000.\n",
      "\n",
      "Nifty at 15,000: On February 6,2021, Nifty touches 15,000 for the first time.\n",
      "\n",
      "Nifty at 16,000: Nifty scales past 16,000 on August 3, 2021.\n",
      "\n",
      "Nifty at 17,000: Nifty however crossed the next 1000 points in matter of 28 days and hit 17,000 on August 31, 2021. Nifty at 18,0000:Nifty 50 covered the distance to 18,000 in 40 days on October 11, 2021.\n",
      "\n",
      "Nifty at 19,000: Nifty hit 19,000 for the first time on June 28, 2023, almost 21 months after scaling the 18,000 mark.\n"
     ]
    }
   ],
   "source": [
    "print(article.text)"
   ]
  },
  {
   "cell_type": "code",
   "execution_count": 17,
   "metadata": {},
   "outputs": [
    {
     "data": {
      "text/plain": [
       "[]"
      ]
     },
     "execution_count": 17,
     "metadata": {},
     "output_type": "execute_result"
    }
   ],
   "source": [
    "article.authors"
   ]
  },
  {
   "cell_type": "code",
   "execution_count": 18,
   "metadata": {},
   "outputs": [
    {
     "data": {
      "text/plain": [
       "'Nifty 50 (NSE) Index Price Live - Top Nifty 50 Companies Index Price in India Today, (NSE) India Index Price Live'"
      ]
     },
     "execution_count": 18,
     "metadata": {},
     "output_type": "execute_result"
    }
   ],
   "source": [
    "article.title"
   ]
  },
  {
   "cell_type": "code",
   "execution_count": 23,
   "metadata": {},
   "outputs": [
    {
     "data": {
      "text/plain": [
       "['nifty',\n",
       " 'companies',\n",
       " 'hit',\n",
       " '2000',\n",
       " '1000',\n",
       " 'india',\n",
       " 'live',\n",
       " 'touched',\n",
       " 'financial',\n",
       " 'nse',\n",
       " 'index',\n",
       " 'price',\n",
       " '50',\n",
       " '3000',\n",
       " 'mark',\n",
       " 'today']"
      ]
     },
     "execution_count": 23,
     "metadata": {},
     "output_type": "execute_result"
    }
   ],
   "source": [
    "article.keywords"
   ]
  },
  {
   "cell_type": "code",
   "execution_count": 24,
   "metadata": {},
   "outputs": [
    {
     "data": {
      "text/plain": [
       "['Lakers',\n",
       " 'Mardi Gras',\n",
       " 'Madame Web',\n",
       " 'Real Madrid',\n",
       " 'George Santos',\n",
       " 'Stock Market Today',\n",
       " 'Celtics',\n",
       " 'Ash Wednesday',\n",
       " 'RB Leipzig  Real Madrid',\n",
       " \"Valentine's Day\",\n",
       " 'Paczki',\n",
       " 'Mayorkas impeachment',\n",
       " \"Galentine's Day\",\n",
       " 'Ash Wednesday 2024',\n",
       " 'Peso Pluma',\n",
       " 'Sun Day Red',\n",
       " 'King cake',\n",
       " 'Bucks',\n",
       " 'Jaafar Jackson',\n",
       " 'IHOP free pancakes National Pancake Day']"
      ]
     },
     "execution_count": 24,
     "metadata": {},
     "output_type": "execute_result"
    }
   ],
   "source": [
    "newspaper.hot()"
   ]
  },
  {
   "cell_type": "code",
   "execution_count": 25,
   "metadata": {},
   "outputs": [
    {
     "data": {
      "text/plain": [
       "['http://www.huffingtonpost.com',\n",
       " 'http://cnn.com',\n",
       " 'http://www.time.com',\n",
       " 'http://www.ted.com',\n",
       " 'http://pandodaily.com',\n",
       " 'http://www.cnbc.com',\n",
       " 'http://www.mlb.com',\n",
       " 'http://www.pcmag.com',\n",
       " 'http://www.foxnews.com',\n",
       " 'http://theatlantic.com',\n",
       " 'http://www.bbc.co.uk',\n",
       " 'http://www.vice.com',\n",
       " 'http://www.elle.com',\n",
       " 'http://www.vh1.com',\n",
       " 'http://espnf1.com',\n",
       " 'http://espn.com',\n",
       " 'http://www.npr.org',\n",
       " 'http://www.sfgate.com',\n",
       " 'http://www.glamour.com',\n",
       " 'http://www.whosdatedwho.com',\n",
       " 'http://kotaku.com',\n",
       " 'http://thebostonchannel.com',\n",
       " 'http://www.suntimes.com',\n",
       " 'http://www.businessinsider.com',\n",
       " 'http://www.rivals.com',\n",
       " 'http://thebusinessjournal.com',\n",
       " 'http://www.newrepublic.com',\n",
       " 'http://allthingsd.com',\n",
       " 'http://www.topgear.com',\n",
       " 'http://thecitizen.com',\n",
       " 'http://www.ign.com',\n",
       " 'http://www.sci-news.com',\n",
       " 'http://www.morningstar.com',\n",
       " 'http://www.variety.com',\n",
       " 'http://thebottomline.as.ucsb.edu',\n",
       " 'http://www.gamefaqs.com',\n",
       " 'http://blog.searchenginewatch.com',\n",
       " 'http://thedailyfairfield.com',\n",
       " 'http://www.solarnovus.com',\n",
       " 'http://medicalxpress.com',\n",
       " 'http://www.news.com.au',\n",
       " 'http://www.health.com',\n",
       " 'http://www.computerandvideogames.com',\n",
       " 'http://wsj.com',\n",
       " 'http://www.allure.com',\n",
       " 'http://www.theinsider.com',\n",
       " 'http://cnet.com',\n",
       " 'http://venturebeat.com',\n",
       " 'http://www.topspeed.com',\n",
       " 'http://thedailyworld.com',\n",
       " 'http://games.com',\n",
       " 'http://www.religionnews.com',\n",
       " 'http://blogs.berkeley.edu',\n",
       " 'http://www.sbnation.com',\n",
       " 'http://www.polygon.com',\n",
       " 'http://nytimes.com',\n",
       " 'http://www.thefrisky.com',\n",
       " 'http://telegram.com',\n",
       " 'http://yahoo.com',\n",
       " 'http://www.nbcnews.com',\n",
       " 'http://thedailypage.com',\n",
       " 'http://www.popsci.com',\n",
       " 'http://www.pbs.org',\n",
       " 'http://www.nasa.gov',\n",
       " 'http://www.guardiannews.com',\n",
       " 'http://www.weather.com',\n",
       " 'http://www.gq.com',\n",
       " 'http://www.etonline.com',\n",
       " 'http://telegraph.co.uk',\n",
       " 'http://www.fastcompany.com',\n",
       " 'http://www.infoworld.com',\n",
       " 'http://www.wired.com',\n",
       " 'http://www.pcgamer.com',\n",
       " 'http://sportingnews.com',\n",
       " 'http://theatlanticwire.com',\n",
       " 'http://thecarconnection.com',\n",
       " 'http://www.sun-sentinel.com',\n",
       " 'http://autoblog.com',\n",
       " 'http://www.environmentalleader.com',\n",
       " 'http://thecrimson.com',\n",
       " 'http://thecypresstimes.com',\n",
       " 'http://www.dailyfinance.com',\n",
       " 'http://www.politico.com',\n",
       " 'http://newsroom.fb.com',\n",
       " 'http://news.ycombinator.com',\n",
       " 'http://lifehacker.com',\n",
       " 'http://www.bet.com',\n",
       " 'http://independent.co.uk',\n",
       " 'http://www.mlssoccer.com',\n",
       " 'http://www.bodybuilding.com',\n",
       " 'http://www.cosmopolitan.com',\n",
       " 'http://www.apple.com',\n",
       " 'http://www.autonews.com',\n",
       " 'http://www.eonline.com',\n",
       " 'http://www.vanityfair.com',\n",
       " 'http://techdigest.tv',\n",
       " 'http://www.maximumpc.com',\n",
       " 'http://www.techradar.com',\n",
       " 'http://thedailyjournal.com',\n",
       " 'http://www.mlive.com',\n",
       " 'http://techworld.com.au',\n",
       " 'http://www.techmeme.com',\n",
       " 'http://thedailynewsegypt.com',\n",
       " 'http://thedailygrind.com.au',\n",
       " 'http://techcrunch.com',\n",
       " 'http://tehrantimes.com',\n",
       " 'http://www.hollywoodreporter.com',\n",
       " 'http://thedailysound.com',\n",
       " 'http://www.stltoday.com',\n",
       " 'http://deadspin.com',\n",
       " 'http://www.digitaltrends.com',\n",
       " 'http://seattletimes.com',\n",
       " 'http://seattlepi.com',\n",
       " 'http://www.cleveland.com',\n",
       " 'http://heritage.org',\n",
       " 'http://www.today.com',\n",
       " 'http://www.politifact.com',\n",
       " 'http://zdnet.com',\n",
       " 'http://www.nationalenquirer.com',\n",
       " 'http://egotastic.com',\n",
       " 'http://blogs.creativeloafing.com',\n",
       " 'http://townhall.com',\n",
       " 'http://www.eweek.com',\n",
       " 'http://www.vogue.co.uk',\n",
       " 'http://www.teenvogue.com',\n",
       " 'http://www.nypost.com',\n",
       " 'http://www.reuters.com',\n",
       " 'http://www.scientificamerican.com',\n",
       " 'http://www.miamiherald.com',\n",
       " 'http://www.nydailynews.com',\n",
       " 'http://www.newscientist.com',\n",
       " 'http://bigstory.ap.org',\n",
       " 'http://www.ebony.com',\n",
       " 'http://thedailystar.com',\n",
       " 'http://www.technologyreview.com',\n",
       " 'http://www.theverge.com',\n",
       " 'http://www.nba.com',\n",
       " 'http://www.cbssports.com',\n",
       " 'http://betabeat.com',\n",
       " 'http://www.tmz.com',\n",
       " 'http://tcnewsnet.com',\n",
       " 'http://www.latimes.com',\n",
       " 'http://www.c-span.org',\n",
       " 'http://www.style.com',\n",
       " 'http://www.peoplestylewatch.com',\n",
       " 'http://theboot.com',\n",
       " 'http://www.foxbusiness.com',\n",
       " 'http://www.pcworld.com',\n",
       " 'http://washingtontimes.com',\n",
       " 'http://thedailyreview.com',\n",
       " 'http://www.nfl.com',\n",
       " 'http://www.space.com',\n",
       " 'http://washingtontechnology.com',\n",
       " 'http://www.buzzfeed.com',\n",
       " 'http://inquirer.net',\n",
       " 'http://www.maxim.com',\n",
       " 'http://abcnews.com',\n",
       " 'http://www.extremetech.com',\n",
       " 'http://thedailytimes.com',\n",
       " 'http://mashable.com',\n",
       " 'http://washingtonexaminer.com',\n",
       " 'http://www.bhg.com',\n",
       " 'http://tech.mit.edu',\n",
       " 'http://hotair.com',\n",
       " 'http://www.1up.com',\n",
       " 'http://www.cbc.ca',\n",
       " 'http://gawker.com',\n",
       " 'http://celebuzz.com',\n",
       " 'http://sciencemag.org',\n",
       " 'http://www.rollingstone.com',\n",
       " 'http://slashdot.org',\n",
       " 'http://www.slate.com',\n",
       " 'http://bleacherreport.com',\n",
       " 'http://www.nascar.com',\n",
       " 'http://www.forbes.com',\n",
       " 'http://washingtonpost.com',\n",
       " 'http://nymag.com',\n",
       " 'http://www.microsoft.com',\n",
       " 'http://hbr.org',\n",
       " 'http://www.ft.com',\n",
       " 'http://www.dailymail.co.uk',\n",
       " 'http://www.theautochannel.com',\n",
       " 'http://g4tv.com',\n",
       " 'http://www.aljazeera.com',\n",
       " 'http://politicker.com',\n",
       " 'http://nbcsports.nbc.com',\n",
       " 'http://www.gamespot.com',\n",
       " 'http://news.sky.com',\n",
       " 'http://www.joystiq.com',\n",
       " 'http://www.escapistmagazine.com',\n",
       " 'http://www.thestreet.com',\n",
       " 'http://www.ew.com',\n",
       " 'http://www.nj.com',\n",
       " 'http://msn.com',\n",
       " 'http://thedailyreporter.com',\n",
       " 'http://www.economist.com',\n",
       " 'http://phys.org',\n",
       " 'http://www.glam.com',\n",
       " 'http://perezhilton.com',\n",
       " 'http://www.usmagazine.com',\n",
       " 'http://aol.com',\n",
       " 'http://www.cbsnews.com',\n",
       " 'http://www.tennis.com',\n",
       " 'http://washingtonian.com',\n",
       " 'http://www.sciencedaily.com',\n",
       " 'http://foxsports.com',\n",
       " 'http://www.popularmechanics.com',\n",
       " 'http://www.macworld.com',\n",
       " 'http://thinkprogress.org',\n",
       " 'http://www.mtv.com',\n",
       " 'http://discovery.com',\n",
       " 'http://www.people.com',\n",
       " 'http://thedailybeast.com',\n",
       " 'http://www.hollywood.com',\n",
       " 'http://medium.com',\n",
       " 'http://www.engadget.com',\n",
       " 'http://www.usnews.com',\n",
       " 'http://www.billboard.com',\n",
       " 'http://nationalgeographic.com',\n",
       " 'http://www.purseblog.com',\n",
       " 'http://www.giantbomb.com',\n",
       " 'http://www.automobilemag.com',\n",
       " 'http://thechronicle.com.au',\n",
       " 'http://tbnweekly.com',\n",
       " 'http://techreport.com',\n",
       " 'http://thedailyfix.com',\n",
       " 'http://www.animenewsnetwork.com',\n",
       " 'http://www.realclearpolitics.com',\n",
       " 'http://usatoday.com',\n",
       " 'http://www.techspot.com',\n",
       " 'http://discovermagazine.com',\n",
       " 'http://arstechnica.com',\n",
       " 'http://foreignpolicy.com',\n",
       " 'http://www.redstate.com',\n",
       " 'http://www.marketwatch.com',\n",
       " 'http://www.eurogamer.net',\n",
       " 'http://cbn.com',\n",
       " 'http://www.parade.com',\n",
       " 'http://www.bbcamerica.com',\n",
       " 'http://washingtonindependent.com',\n",
       " 'http://drudgereport.com',\n",
       " 'http://beta.na.leagueoflegends.com']"
      ]
     },
     "execution_count": 25,
     "metadata": {},
     "output_type": "execute_result"
    }
   ],
   "source": [
    "newspaper.popular_urls()"
   ]
  },
  {
   "cell_type": "code",
   "execution_count": null,
   "metadata": {},
   "outputs": [],
   "source": [
    "\n",
    "PERSIST_DIR = \"./storage\"\n",
    "storage_context = StorageContext.from_defaults(persist_dir=PERSIST_DIR)\n",
    "#storage_context.docstore.add_documents(nodes)\n",
    "index = load_index_from_storage(storage_context)\n",
    "nodes = index.docstore.docs.values()\n",
    "\n",
    "nodes = list(nodes)"
   ]
  },
  {
   "cell_type": "code",
   "execution_count": null,
   "metadata": {},
   "outputs": [],
   "source": [
    "prompt = '''\n",
    "Outline the financial and operational highlights of Meta for Q4:2023 and full year 2023 from the source documents. Include details like revenue, profits, share prices, user base, etc./\n",
    "You have to prove that your response is correct by citing the relevant sections from the source document./\n",
    "Cross-check your response for factual accuracy and correct it, if needed. Your response must not contain any information that is not present in the source document./\n",
    "Structure your output as a paragraph under 300 words. FOLLOW ALL THE INSTRUCTIONS CAREFULLY.'''\n",
    "\n",
    "retrieved_nodes = hybrid_retriever.retrieve(prompt)\n",
    "\n",
    "reranked_nodes = reranker.postprocess_nodes(\n",
    "    retrieved_nodes,\n",
    "    query_bundle=QueryBundle(prompt)\n",
    ")"
   ]
  },
  {
   "cell_type": "markdown",
   "metadata": {},
   "source": [
    "  Based on the provided source documents, here are the financial and operational highlights of Meta for Q4:2023 and full year 2023:\n",
    "For Q4:2023, Meta reported revenue of $40,111 million, a 25% increase year-over-year. The company's operating margin was 41%, and its effective tax rate was 17%. Net income was $14,017 million, a 203% increase year-over-year, and diluted earnings per share (EPS) were $5.33, a 203% increase. Family daily active people (DAP) increased by 8% year-over-year to an average of 3.19 billion for the quarter.\n",
    "For full year 2023, Meta reported revenue of $134,902 million, a 16% increase year-over-year. The company's operating margin was 35%, and its effective tax rate was 18%. Net income was $39,098 million, a 69% increase year-over-year, and diluted EPS were $14.87, a 73% increase. User base also grew with Family monthly active people (MAP) increasing by 6% year-over-year to 3.07 billion as of December 31, 2023, and Facebook daily active users (DAUs) increasing by 6% year-over-year to 2.11 billion on average for the quarter.\n",
    "In terms of costs and expenses, total expenses were $23,727 million for Q4:2023, a decrease of 8% year-over-year, and $88,151 million for full year 2023, an increase of 1% year-over-year. Restructuring charges amounted to $1.15 billion and $3.45 billion for Q4:2023 and full year 2023, respectively.\n",
    "Finally, as of December 31, 2023, Meta had $30.93 billion available and authorized for share repurchases, with an additional $50 billion increase in its share repurchase authorization announced today."
   ]
  },
  {
   "cell_type": "code",
   "execution_count": null,
   "metadata": {},
   "outputs": [],
   "source": []
  },
  {
   "cell_type": "markdown",
   "metadata": {},
   "source": [
    "## Response Synthesis\n",
    "\n",
    "* o/p of a response synthesizer is a Response object\n",
    "* when used in a query engine, the response synthesizer is used after nodes are retrieved from a retriever and after any node-postprocessors are ran\n",
    "* response modes : refine, compact (default), tree_summarize, simple_summarize, no_text, accumulate, compact_accumulate\n",
    "* with refine/compact, you can use structured_answer_filtering=True in get_response_synthesizer()"
   ]
  },
  {
   "cell_type": "code",
   "execution_count": null,
   "metadata": {},
   "outputs": [],
   "source": [
    "from llama_index.core.data_structs import Node\n",
    "from llama_index.core.schema import NodewithScore\n",
    "from llama_index.core.response_synthesizers import ResponseMode\n",
    "from llama_index.core import get_response_synthesizer\n",
    "\n",
    "# on its own\n",
    "response_synthesizer = get_response_synthesizer(\n",
    "    'query text',\n",
    "    nodes = [Node(text='text'), ...],\n",
    "    response_mode = 'compact'\n",
    ")\n",
    "\n",
    "# in a query engine\n",
    "query_engine = index.as_query_engine(\n",
    "    response_synthesizer=response_synthesizer\n",
    ")\n",
    "response = query_engine.query('query_text')"
   ]
  },
  {
   "cell_type": "code",
   "execution_count": null,
   "metadata": {},
   "outputs": [],
   "source": [
    "########################################\n",
    "############ TREE-SUMMARIZE ############\n",
    "########################################\n",
    "\n",
    "from llama_index.core.response_synthesizers import TreeSummarize\n",
    "summarizer = TreeSummarize(verbose=True)\n",
    "response = await summarizer.aget_response('query', [text])\n",
    "print(response)"
   ]
  },
  {
   "cell_type": "code",
   "execution_count": null,
   "metadata": {},
   "outputs": [],
   "source": [
    "########################################\n",
    "####### PYDANTIC TREE-SUMMARIZE ########\n",
    "########################################\n",
    "\n",
    "from llama_index.core.types import BaseModel\n",
    "from llama_index.core import PromptTemplate\n",
    "from typing import List\n",
    "\n",
    "class Biography(BaseModel):\n",
    "    name: str\n",
    "    best_known_for: List(str)\n",
    "    extra_info: str\n",
    "\n",
    "qa_prompt_tmpl = (\n",
    "    \"Context information is below.\\n\"\n",
    "    \"---------------------\\n\"\n",
    "    \"{context_str}\\n\"\n",
    "    \"---------------------\\n\"\n",
    "    \"Given the context information and not prior knowledge, \"\n",
    "    \"answer the query.\\n\"\n",
    "    \"Please also write the answer in the style of {tone_name}.\\n\"\n",
    "    \"Query: {query_str}\\n\"\n",
    "    \"Answer: \"\n",
    ")\n",
    "qa_prompt = PromptTemplate(qa_prompt_tmpl)\n",
    "\n",
    "summarizer = TreeSummarize(\n",
    "    verbose=True,\n",
    "    summary_template=qa_prompt,\n",
    "    output_cls=Biography\n",
    ")\n",
    "\n",
    "response = summarizer.get_response(\n",
    "    'query_text',\n",
    "    [text],\n",
    "    tone_name='tone'\n",
    ")\n",
    "\n",
    "print(str(response))"
   ]
  },
  {
   "cell_type": "markdown",
   "metadata": {},
   "source": [
    "# Readers"
   ]
  },
  {
   "cell_type": "code",
   "execution_count": null,
   "metadata": {},
   "outputs": [],
   "source": [
    "# reader usage\n",
    "from llama_index.core import download_loader\n",
    "\n",
    "GoogleDocsReader = download_loader('GoogleDocsReader')\n",
    "loader = GoogleDocsReader()\n",
    "documents = loader.load_data(document_ids=gdoc_ids)"
   ]
  },
  {
   "cell_type": "code",
   "execution_count": null,
   "metadata": {},
   "outputs": [],
   "source": [
    "# PyMuPDF reader\n",
    "from pathlib import Path\n",
    "PyMuPDFReader = download_loader('PyMuPDFReader')\n",
    "loader = PyMuPDFReader()\n",
    "documents = loader.load_data(\n",
    "    file_path=Path('./article.pdf'),\n",
    "    metadata=True\n",
    ")"
   ]
  },
  {
   "cell_type": "code",
   "execution_count": null,
   "metadata": {},
   "outputs": [],
   "source": [
    "# PDF table loader\n",
    "from llama_hub.pdf_table import PDFTableReader\n",
    "from pathlib import Path\n",
    "\n",
    "reader = PDFTableReader()\n",
    "pdf_path = Path('./path/to/pdf')\n",
    "documents = reader.load_data(\n",
    "    file=pdf_path,\n",
    "    pages='all' # '80-90', '1,2,3'\n",
    ")"
   ]
  },
  {
   "cell_type": "code",
   "execution_count": null,
   "metadata": {},
   "outputs": [],
   "source": [
    "# SEC data downloader\n",
    "SECFilingsLoader = download_loader('SECFilingsLoader')\n",
    "loader = SECFilingsLoader(\n",
    "    tickers=['TSLA'],\n",
    "    amount=3,\n",
    "    filing_type='10-K'\n",
    ")\n",
    "loader.load_data()\n",
    "documents = SimpleDirectoryReader('data\\TSLA\\2022').load_data()"
   ]
  },
  {
   "cell_type": "code",
   "execution_count": null,
   "metadata": {},
   "outputs": [],
   "source": [
    "from llama_index import VectorStoreIndex, download_loader\n",
    "from llama_index import SimpleDirectoryReader\n",
    "\n",
    "SECFilingsLoader = download_loader(\"SECFilingsLoader\")\n",
    "\n",
    "loader = SECFilingsLoader(tickers=[\"TSLA\"], amount=3, filing_type=\"10-K\")\n",
    "loader.load_data()\n",
    "\n",
    "documents = SimpleDirectoryReader(\"data\\TSLA\\2022\").load_data()\n",
    "index = VectorStoreIndex.from_documents(documents)\n",
    "index.query(\"What are the risk factors of Tesla for the year 2022?\")"
   ]
  },
  {
   "cell_type": "code",
   "execution_count": null,
   "metadata": {},
   "outputs": [],
   "source": [
    "# SmartPDFLoader\n",
    "%pip install llmsherpa\n",
    "\n",
    "from llama_hub.smart_pdf_loader import SmartPDFLoader\n",
    "\n",
    "llmsherpa_api_url = \"https://readers.llmsherpa.com/api/document/developer/parseDocument?renderFormat=all\"\n",
    "pdf_url = \"https://arxiv.org/pdf/1910.13461.pdf\"  # also allowed is a file path e.g. /home/downloads/xyz.pdf\n",
    "pdf_loader = SmartPDFLoader(llmsherpa_api_url=llmsherpa_api_url)\n",
    "documents = pdf_loader.load_data(pdf_url)\n",
    "\n",
    "# summarize a section using prompts\n",
    "from IPython.core.display import display, HTML\n",
    "selected_section = None\n",
    "# find a section in the document by title\n",
    "for section in doc.sections():\n",
    "    if section.title == '3 Fine-tuning BART':\n",
    "        selected_section = section\n",
    "        break\n",
    "# use include_children=True and recurse=True to fully expand the section. \n",
    "# include_children only returns at one sublevel of children whereas recurse goes through all the descendants\n",
    "HTML(section.to_html(include_children=True, recurse=True))\n",
    "# summary\n",
    "from llama_index.llms import OpenAI\n",
    "context = selected_section.to_html(include_children=True, recurse=True)\n",
    "question = \"list all the tasks discussed and one line about each task\"\n",
    "resp = OpenAI().complete(f\"read this text and answer question: {question}:\\n{context}\")\n",
    "print(resp.text)"
   ]
  },
  {
   "cell_type": "code",
   "execution_count": null,
   "metadata": {},
   "outputs": [],
   "source": [
    "# analyze tables\n",
    "from IPython.core.display import display, HTML\n",
    "HTML(doc.tables()[5].to_html())\n",
    "\n",
    "from llama_index.llms import OpenAI\n",
    "context = doc.tables()[5].to_html()\n",
    "resp = OpenAI().complete(f\"read this table and answer question: which model has the best performance on squad 2.0:\\n{context}\")\n",
    "print(resp.text)"
   ]
  },
  {
   "cell_type": "code",
   "execution_count": null,
   "metadata": {},
   "outputs": [],
   "source": [
    "# news\n",
    "%pip install newspaper3k\n",
    "from llama_index.readers.web.news import NewsArticleReader\n",
    "\n",
    "reader = NewsArticleReader(use_nlp=False)\n",
    "documents = reader.load_data(\n",
    "    [\n",
    "        \"https://www.cnbc.com/2023/08/03/amazon-amzn-q2-earnings-report-2023.html\",\n",
    "        \"https://www.theverge.com/2023/8/3/23818388/brave-search-image-video-results-privacy-index\",\n",
    "    ]\n",
    ")"
   ]
  },
  {
   "cell_type": "code",
   "execution_count": null,
   "metadata": {},
   "outputs": [],
   "source": [
    "# youtube video transcripts\n",
    "%pip install youtube_transcript_api\n",
    "\n",
    "from llama_hub.youtube_transcript import YoutubeTranscriptReader\n",
    "\n",
    "loader = YoutubeTranscriptReader()\n",
    "documents = loader.load_data(\n",
    "    ytlinks=[\"https://www.youtube.com/watch?v=i3OYlaoj-BM\"]\n",
    ")\n",
    "\n",
    "# check url validity\n",
    "from llama_hub.youtube_transcript import is_youtube_video\n",
    "\n",
    "is_youtube_video(\"https://youtube.com/watch?v=j83jrh2\")  # => True\n",
    "is_youtube_video(\"https://vimeo.com/272134160\")  # => False"
   ]
  },
  {
   "cell_type": "code",
   "execution_count": null,
   "metadata": {},
   "outputs": [],
   "source": [
    "# Summary index\n",
    "from llama_index.core import SummaryIndex\n",
    "summary_index = SummaryIndex()"
   ]
  },
  {
   "cell_type": "markdown",
   "metadata": {},
   "source": [
    "## Customizing Prompts"
   ]
  },
  {
   "cell_type": "code",
   "execution_count": null,
   "metadata": {},
   "outputs": [],
   "source": [
    "from llama_index.core import PromptTemplate\n",
    "from IPython.display import Markdown, display\n",
    "\n",
    "query_engine = index.as_query_engine()\n",
    "\n",
    "# define prompt viewing function\n",
    "def display_prompt_dict(prompts_dict):\n",
    "    for k, p in prompts_dict.items():\n",
    "        text_md = f\"**Prompt Key**: {k}<br>\" f\"**Text:** <br>\"\n",
    "        display(Markdown(text_md))\n",
    "        print(p.get_template())\n",
    "        display(Markdown(\"<br><br>\"))"
   ]
  },
  {
   "cell_type": "code",
   "execution_count": null,
   "metadata": {},
   "outputs": [],
   "source": [
    "prompts_dict = query_engine.get_prompts()\n",
    "display_prompt_dict(prompts_dict)"
   ]
  },
  {
   "cell_type": "markdown",
   "metadata": {},
   "source": [
    "**response_synthesizer:text_qa_template**\n",
    "\n",
    "```\n",
    "Context information is below.\n",
    "---------------------\n",
    "{context_str}\n",
    "---------------------\n",
    "Given the context information and not prior knowledge, answer the query.\n",
    "Query: {query_str}\n",
    "Answer: \n",
    "```\n",
    "\n",
    "**response_synthesizer:refine_template**\n",
    "\n",
    "```\n",
    "The original query is as follows: {query_str}\n",
    "We have provided an existing answer: {existing_answer}\n",
    "We have the opportunity to refine the existing answer (only if needed) with some more context below.\n",
    "------------\n",
    "{context_msg}\n",
    "------------\n",
    "Given the new context, refine the original answer to better answer the query. If the context isn't useful, return the original answer.\n",
    "Refined Answer: \n",
    "```\n",
    "\n",
    "**response_synthesizer:summary_template**\n",
    "```\n",
    "Context information from multiple sources is below.\n",
    "---------------------\n",
    "{context_str}\n",
    "---------------------\n",
    "Given the information from multiple sources and not prior knowledge, answer the query.\n",
    "Query: {query_str}\n",
    "Answer: \n",
    "```"
   ]
  },
  {
   "cell_type": "code",
   "execution_count": null,
   "metadata": {},
   "outputs": [],
   "source": [
    "# customize the prompts\n",
    "new_qa_template = (\n",
    "    \"You are an experienced financial and investment research analyst, with profound analytical capabilities.\"\n",
    "    \"Your task is to write high-quality financial and investment research reports, which are to be published by an esteemed firm, with a large user base.\"\n",
    "    \"You perform in-depth research about a company, the industry and its capabilities, in light of the current financial condition.\"\n",
    "    \"You always generate your response based on the context information from the source documents, given below, delineated by triple backticks (```) ONLY.\\n\"\n",
    "    \"-----------------------------------------------------------------------------------------------------------------------\\n\"\n",
    "    \"```{context_str}```\"\n",
    "    \"\\n-----------------------------------------------------------------------------------------------------------------------\\n\"\n",
    "    \"Given this context information. please answer the question: {query_str}\\n\"\n",
    "    \"Cite the relevant context sources that you use to answer the question. You use the numerical facts and data from the context documents to elucidate your answer.\"\n",
    "    \"YOUR RESPONSE MUST NOT INCLUDE ANY DATA THAT IS NOT PRESENT IN THE SOURCE DOCUMENTS. Your response should be credible and trustworthy.\"\n",
    ")\n",
    "\n",
    "new_refine_template = (\n",
    "    \"You are an profoundly experienced document curator, excellent at reviewing and refining the research articles written by financial and investment research analysts.\"\n",
    "    \"You refine the existing articles to make them excellent enough to be published in a research report.\"\n",
    "    \"The original query is as follows: {query_str}\"\n",
    "    \"-----------------------------------------------------------------------------------------------------------------------\\n\"\n",
    "    \"We have provided an existing article written by the analyst: {existing_answer}\"\n",
    "    \"-----------------------------------------------------------------------------------------------------------------------\\n\"\n",
    "    \"You have the opportunity to refine the existing article to make it even better (only if needed) with some more context given below.\\n\"\n",
    "    \"{context_msg}\"\n",
    "    \"-----------------------------------------------------------------------------------------------------------------------\\n\"\n",
    "    \"Given the new context, cross-check the original article for factual accuracy and relevance. Refine it so that it looks more professional and crisp.\"\n",
    "    \"The refined answer must be of high-quality, apt to be included in a research report. If the context isn't useful, return the original answer.\"\n",
    "    \"-----------------------------------------------------------------------------------------------------------------------\\n\"\n",
    "    \"Refined Answer:\"\n",
    ")\n",
    "\n",
    "new_summary_template = (\n",
    "    \"You are an experienced financial and investment research analyst, with profound analytical capabilities.\"\n",
    "    \"Your task is to summarize the financial documents given below as context, delineated by triple backticks (```), including every important detail that is relevant\"\n",
    "    \"for including in a financial and investment research report. You ONLY USE THE INFORMATION GIVEN IN THE CONTEXT AND STRICTLY AVOID HALLUCINATING ANYTHING.\"\n",
    "    \"Your summary should be in-depth and must be relevant in light of the current financial condition.\\n\"\n",
    "    \"-----------------------------------------------------------------------------------------------------------------------\\n\"\n",
    "    \"```{context_str}```\"\n",
    "    \"-----------------------------------------------------------------------------------------------------------------------\\n\"\n",
    "    \"Using the context and the summaries that you generate, AND NOT PRIOR KNOWLEDGE, answer the query.\"\n",
    "    \"Query: {query_str}\"\n",
    "    \"Answer:\" \n",
    ")\n",
    "\n",
    "new_qa_prompt = PromptTemplate(new_qa_template)\n",
    "new_qa_prompt = PromptTemplate(new_qa_template)\n",
    "new_summary_prompt = PromptTemplate(new_summary_template)\n",
    "query_engine.update_prompts(\n",
    "    {\n",
    "        'response_synthesizer:text_qa_template': new_qa_prompt\n",
    "    }\n",
    ")\n"
   ]
  }
 ],
 "metadata": {
  "kernelspec": {
   "display_name": ".venv",
   "language": "python",
   "name": "python3"
  },
  "language_info": {
   "codemirror_mode": {
    "name": "ipython",
    "version": 3
   },
   "file_extension": ".py",
   "mimetype": "text/x-python",
   "name": "python",
   "nbconvert_exporter": "python",
   "pygments_lexer": "ipython3",
   "version": "3.11.5"
  }
 },
 "nbformat": 4,
 "nbformat_minor": 2
}
